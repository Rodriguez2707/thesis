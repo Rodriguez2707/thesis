{
  "nbformat": 4,
  "nbformat_minor": 0,
  "metadata": {
    "colab": {
      "name": "svm.ipynb",
      "version": "0.3.2",
      "provenance": [],
      "collapsed_sections": [],
      "include_colab_link": true
    },
    "kernelspec": {
      "name": "python3",
      "display_name": "Python 3"
    }
  },
  "cells": [
    {
      "cell_type": "markdown",
      "metadata": {
        "id": "view-in-github",
        "colab_type": "text"
      },
      "source": [
        "<a href=\"https://colab.research.google.com/github/saschaschworm/dsb/blob/master/Exercises/svm.ipynb\" target=\"_parent\"><img src=\"https://colab.research.google.com/assets/colab-badge.svg\" alt=\"Open In Colab\"/></a>"
      ]
    },
    {
      "metadata": {
        "id": "1ZAABW6eXWPt",
        "colab_type": "text"
      },
      "cell_type": "markdown",
      "source": [
        "# Support Vector Machines"
      ]
    },
    {
      "metadata": {
        "id": "cMiieYLaXYv1",
        "colab_type": "text"
      },
      "cell_type": "markdown",
      "source": [
        "## Packages and Configuration"
      ]
    },
    {
      "metadata": {
        "id": "xha52ZVWREzF",
        "colab_type": "code",
        "colab": {}
      },
      "cell_type": "code",
      "source": [
        "import numpy as np\n",
        "import pandas as pd\n",
        "\n",
        "from sklearn.linear_model import SGDClassifier, SGDRegressor\n",
        "from sklearn.model_selection import cross_val_score\n",
        "from sklearn.metrics import mean_squared_error\n",
        "from sklearn.svm import SVC, SVR"
      ],
      "execution_count": 0,
      "outputs": []
    },
    {
      "metadata": {
        "id": "SFt6M8VuXegA",
        "colab_type": "text"
      },
      "cell_type": "markdown",
      "source": [
        "## Support Vector Regression on Rental Prices Dataset"
      ]
    },
    {
      "metadata": {
        "id": "N7m3hkPCXnP4",
        "colab_type": "text"
      },
      "cell_type": "markdown",
      "source": [
        "### Data Import and Preprocessing"
      ]
    },
    {
      "metadata": {
        "id": "5LIaT1IYXcK-",
        "colab_type": "code",
        "colab": {}
      },
      "cell_type": "code",
      "source": [
        "data = pd.read_csv('https://raw.githubusercontent.com/saschaschworm/dsb/master/Data%20Sets/Demos%20and%20Exercises/rental_prices/rental_prices_multiple.csv')\n",
        "X, y = data[['living_space', 'age']].values, data['rental_price'].values"
      ],
      "execution_count": 0,
      "outputs": []
    },
    {
      "metadata": {
        "id": "LEn-zFfkX3KS",
        "colab_type": "text"
      },
      "cell_type": "markdown",
      "source": [
        "### Modelling and 10-Fold Cross-Validation"
      ]
    },
    {
      "metadata": {
        "id": "sb7DUopGZnjX",
        "colab_type": "code",
        "colab": {}
      },
      "cell_type": "code",
      "source": [
        "# Regression Models\n",
        "multiple_linear_reg = SGDRegressor(max_iter=1000, eta0=0.0001, random_state=1909)\n",
        "support_vector_reg = SVR(kernel='linear', C=100)"
      ],
      "execution_count": 0,
      "outputs": []
    },
    {
      "metadata": {
        "id": "Z3EsKR4wXmx6",
        "colab_type": "code",
        "colab": {
          "base_uri": "https://localhost:8080/",
          "height": 51
        },
        "outputId": "dab53207-d707-453c-d7ed-5672ed105aac"
      },
      "cell_type": "code",
      "source": [
        "# 10-Fold Cross-Validation (The Easy Way)\n",
        "cv_scores_mlr_reg = cross_val_score(multiple_linear_reg, X, y, cv=10, scoring='neg_mean_squared_error', n_jobs=-1, verbose=1)\n",
        "cv_scores_svm_reg = cross_val_score(support_vector_reg, X, y, cv=10, scoring='neg_mean_squared_error', n_jobs=-1, verbose=1)"
      ],
      "execution_count": 4,
      "outputs": [
        {
          "output_type": "stream",
          "text": [
            "[Parallel(n_jobs=-1)]: Done  10 out of  10 | elapsed:    0.1s finished\n",
            "[Parallel(n_jobs=-1)]: Done  10 out of  10 | elapsed:    0.1s finished\n"
          ],
          "name": "stderr"
        }
      ]
    },
    {
      "metadata": {
        "id": "DPEyfLhxYFCt",
        "colab_type": "text"
      },
      "cell_type": "markdown",
      "source": [
        "### Evaluation"
      ]
    },
    {
      "metadata": {
        "id": "MjfSDm0hYFVx",
        "colab_type": "code",
        "colab": {
          "base_uri": "https://localhost:8080/",
          "height": 51
        },
        "outputId": "b958970f-3271-461e-d23b-f6c7f449c162"
      },
      "cell_type": "code",
      "source": [
        "print(f'Average RMSE in Multiple Linear Regression: {np.sqrt(-np.mean(cv_scores_mlr_reg)):.2f}')\n",
        "print(f'Average RMSE in Support Vector Machine: {np.sqrt(-np.mean(cv_scores_svm_reg)):.2f}')"
      ],
      "execution_count": 5,
      "outputs": [
        {
          "output_type": "stream",
          "text": [
            "Average RMSE in Multiple Linear Regression: 43.32\n",
            "Average RMSE in Support Vector Machine: 34.77\n"
          ],
          "name": "stdout"
        }
      ]
    },
    {
      "metadata": {
        "id": "YwDM6HJHYFvr",
        "colab_type": "text"
      },
      "cell_type": "markdown",
      "source": [
        "## Support Vector Classification on Student Exam Performance Data"
      ]
    },
    {
      "metadata": {
        "id": "V40Vv996dVn4",
        "colab_type": "text"
      },
      "cell_type": "markdown",
      "source": [
        "### Data Import and Preprocessing"
      ]
    },
    {
      "metadata": {
        "id": "9jmWrH14dVzk",
        "colab_type": "code",
        "colab": {}
      },
      "cell_type": "code",
      "source": [
        "data = pd.read_csv('https://github.com/saschaschworm/dsb/raw/master/Data%20Sets/Demos%20and%20Exercises/exam_passing/exam_passing.csv', header=None)\n",
        "data.columns = ['hours_studied', 'hours_slept', 'passed']\n",
        "X, y = data[['hours_studied', 'hours_slept']].values, data['passed'].values"
      ],
      "execution_count": 0,
      "outputs": []
    },
    {
      "metadata": {
        "id": "Y3JA1AATdV-i",
        "colab_type": "text"
      },
      "cell_type": "markdown",
      "source": [
        "### Modelling and 10-Fold Cross-Validation"
      ]
    },
    {
      "metadata": {
        "id": "Xi6lTjhVdWJ7",
        "colab_type": "code",
        "colab": {}
      },
      "cell_type": "code",
      "source": [
        "# Regression Models\n",
        "logistic_clf = SGDClassifier(max_iter=1000, eta0=0.0001, random_state=1909)\n",
        "support_vector_clf = SVC(kernel='linear', C=100)"
      ],
      "execution_count": 0,
      "outputs": []
    },
    {
      "metadata": {
        "id": "tqz3UPiSdWRh",
        "colab_type": "code",
        "colab": {
          "base_uri": "https://localhost:8080/",
          "height": 51
        },
        "outputId": "37e0f34e-a59e-44f6-9a24-eb230b85109a"
      },
      "cell_type": "code",
      "source": [
        "# 10-Fold Cross-Validation (The Easy Way)\n",
        "cv_scores_log_clf = cross_val_score(logistic_clf, X, y, cv=10, scoring='f1', n_jobs=-1, verbose=1)\n",
        "cv_scores_svm_clf = cross_val_score(support_vector_clf, X, y, cv=10, scoring='f1', n_jobs=-1, verbose=1)"
      ],
      "execution_count": 8,
      "outputs": [
        {
          "output_type": "stream",
          "text": [
            "[Parallel(n_jobs=-1)]: Done  10 out of  10 | elapsed:    0.1s finished\n",
            "[Parallel(n_jobs=-1)]: Done  10 out of  10 | elapsed:    0.1s finished\n"
          ],
          "name": "stderr"
        }
      ]
    },
    {
      "metadata": {
        "id": "_rtzkMK4dWa4",
        "colab_type": "text"
      },
      "cell_type": "markdown",
      "source": [
        "### Evaluation"
      ]
    },
    {
      "metadata": {
        "id": "iATCTBbwdWjP",
        "colab_type": "code",
        "colab": {
          "base_uri": "https://localhost:8080/",
          "height": 51
        },
        "outputId": "0cc56f62-c2dc-4ecd-e6b8-c8d19f174547"
      },
      "cell_type": "code",
      "source": [
        "print(f'Average F1 in Logistic Regreression: {np.mean(cv_scores_log_clf) * 100:.2f}%')\n",
        "print(f'Average F1 in Support Vector Machine: {np.mean(cv_scores_svm_clf) * 100:.2f}%')"
      ],
      "execution_count": 9,
      "outputs": [
        {
          "output_type": "stream",
          "text": [
            "Average F1 in Logistic Regreression: 88.29%\n",
            "Average F1 in Support Vector Machine: 88.99%\n"
          ],
          "name": "stdout"
        }
      ]
    }
  ]
}